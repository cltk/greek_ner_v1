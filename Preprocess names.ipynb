{
 "cells": [
  {
   "cell_type": "markdown",
   "metadata": {},
   "source": [
    "# Place names\n",
    "\n",
    "Data from Pleiades and Wiki"
   ]
  },
  {
   "cell_type": "code",
   "execution_count": 1,
   "metadata": {},
   "outputs": [],
   "source": [
    "# TODO: add https://en.wikipedia.org/wiki/List_of_Greek_place_names"
   ]
  },
  {
   "cell_type": "code",
   "execution_count": 2,
   "metadata": {},
   "outputs": [],
   "source": [
    "import json"
   ]
  },
  {
   "cell_type": "code",
   "execution_count": 3,
   "metadata": {},
   "outputs": [],
   "source": [
    "with open(\"pleiades-places-latest.json\", \"rb\") as fo:\n",
    "    pleiades = json.load(fo)"
   ]
  },
  {
   "cell_type": "code",
   "execution_count": 4,
   "metadata": {},
   "outputs": [
    {
     "data": {
      "text/plain": [
       "37500"
      ]
     },
     "execution_count": 4,
     "metadata": {},
     "output_type": "execute_result"
    }
   ],
   "source": [
    "len(pleiades[\"@graph\"])"
   ]
  },
  {
   "cell_type": "code",
   "execution_count": 5,
   "metadata": {},
   "outputs": [
    {
     "data": {
      "text/plain": [
       "True"
      ]
     },
     "execution_count": 5,
     "metadata": {},
     "output_type": "execute_result"
    }
   ],
   "source": [
    "def is_greek_char(char: str):\n",
    "    if 880 <= ord(char) <= 1023 or 7936 <= ord(char) <= 8191:\n",
    "        return True\n",
    "    return False\n",
    "\n",
    "is_greek_char(\"ά\")"
   ]
  },
  {
   "cell_type": "code",
   "execution_count": 6,
   "metadata": {},
   "outputs": [
    {
     "name": "stdout",
     "output_type": "stream",
     "text": [
      "Total: 1329\n"
     ]
    }
   ],
   "source": [
    "pleiades_names = list()\n",
    "for item in pleiades[\"@graph\"]:\n",
    "    for name in item[\"names\"]:\n",
    "        # \"ancient greek\" only in name[\"description\"] 55 times, so not reliable; \"greek\" 129\n",
    "        # https://www.ssec.wisc.edu/~tomw/java/unicode.html\n",
    "        # Ancient Greek hex range: 0370—03FF == 880-1023\n",
    "        # Greek Extended: 1F00—1FFF == 7936-8191\n",
    "        # if all(), then 1329 Greek names are found\n",
    "        # if any(), then 1585; not a big diff, use the ones we know are right\n",
    "        if name[\"attested\"] and all([is_greek_char(x) for x in name[\"attested\"]]):\n",
    "                pleiades_names.append(name[\"attested\"])\n",
    "print(\"Total:\", len(pleiades_names))"
   ]
  },
  {
   "cell_type": "code",
   "execution_count": 7,
   "metadata": {},
   "outputs": [],
   "source": [
    "# also \"place names\" from wiki: https://en.wikipedia.org/wiki/List_of_Greek_place_names\n",
    "with open(\"place-names.txt\") as fo:\n",
    "    wiki_names = fo.readlines()\n",
    "wiki_names = [s.strip() for s in pleiades_names]"
   ]
  },
  {
   "cell_type": "code",
   "execution_count": 8,
   "metadata": {},
   "outputs": [
    {
     "data": {
      "text/plain": [
       "1329"
      ]
     },
     "execution_count": 8,
     "metadata": {},
     "output_type": "execute_result"
    }
   ],
   "source": [
    "len(wiki_names)"
   ]
  },
  {
   "cell_type": "code",
   "execution_count": 9,
   "metadata": {},
   "outputs": [
    {
     "name": "stdout",
     "output_type": "stream",
     "text": [
      "['Μαινάκῃ', 'Ὠρητανοί', 'Πιτυοῦσσαι']\n"
     ]
    }
   ],
   "source": [
    "print(wiki_names[:3])"
   ]
  },
  {
   "cell_type": "code",
   "execution_count": 10,
   "metadata": {},
   "outputs": [
    {
     "name": "stdout",
     "output_type": "stream",
     "text": [
      "2658\n"
     ]
    }
   ],
   "source": [
    "names = pleiades_names + wiki_names\n",
    "print(len(names))"
   ]
  },
  {
   "cell_type": "code",
   "execution_count": 11,
   "metadata": {},
   "outputs": [
    {
     "name": "stdout",
     "output_type": "stream",
     "text": [
      "2658\n"
     ]
    }
   ],
   "source": [
    "# remove multiword place names\n",
    "# this can be reenabled later\n",
    "names = [n for n in names if len(n.split()) == 1]\n",
    "print(len(names))"
   ]
  },
  {
   "cell_type": "code",
   "execution_count": 12,
   "metadata": {},
   "outputs": [],
   "source": [
    "# trim suffix of each word unless short\n",
    "# doing this as a naive match to declined forms in real texts\n",
    "def bad_stemming(names):\n",
    "    names_new = list()\n",
    "    for name in names:\n",
    "        femenine_endings = [\"ά\", \"α\", \"η\", \"ή\"]\n",
    "        masculine_neuter_endings = [\"ος\", \"ός\", \"ον\", \"όν\"]\n",
    "        consonants = list(\"βγδζθκλμνξπρσςτυφχψ\")\n",
    "        if not len(name) > 3:\n",
    "            names_new.append(name)\n",
    "        elif any([end for end in femenine_endings if name.endswith(end)]):\n",
    "            names_new.append(name[:-1])\n",
    "        elif any([end for end in masculine_neuter_endings if name.endswith(end)]):\n",
    "            names_new.append(name[:-2])\n",
    "        elif any([end for end in consonants if name.endswith(end)]):\n",
    "            names_new.append(name)\n",
    "        else:\n",
    "            names_new.append(name)\n",
    "    return names_new"
   ]
  },
  {
   "cell_type": "code",
   "execution_count": 15,
   "metadata": {},
   "outputs": [
    {
     "name": "stdout",
     "output_type": "stream",
     "text": [
      "['Μαινάκῃ', 'Ὠρητανοί', 'Πιτυοῦσσαι', 'Σκομβραρί', 'Ἀβίλυχ', 'Ἥρας', 'Λίξ', 'Καρμανί', 'Ζουχάββαρι', 'Κεδρωσί', 'Γαδρωσί', 'Γεδρωσί', 'Ὀάρακτ', 'Προφθασί', 'Σάρνι', 'Κώφας', 'Ὠγυρις', 'Ὀργάν', 'Νόαρ', 'Βήθηλά', 'Βήθηγ', 'Κουκονήσι', 'Δισπηλιό', 'Ἰάνουκλ', 'Στροφάδες']\n"
     ]
    }
   ],
   "source": [
    "names_stemmed = bad_stemming(names=names)\n",
    "print(names_stemmed[:25])"
   ]
  },
  {
   "cell_type": "code",
   "execution_count": 16,
   "metadata": {},
   "outputs": [],
   "source": [
    "with open(\"place-names-stemmed.txt\", \"w\") as fo:\n",
    "    fo.write(\"\\n\".join(names_stemmed))"
   ]
  },
  {
   "cell_type": "markdown",
   "metadata": {},
   "source": [
    "# Personal names\n",
    "\n",
    "Data from The Lexicon of Greek Personal Names (LGPN).\n",
    "\n",
    "http://clas-lgpn5.classics.ox.ac.uk:8080/exist/apps/lgpn1-search/index.html?name=%CE%92*"
   ]
  },
  {
   "cell_type": "code",
   "execution_count": 18,
   "metadata": {},
   "outputs": [],
   "source": [
    "with open(\"personal-names.txt\") as fo:\n",
    "    personal_names = fo.readlines()\n",
    "personal_names = [s.strip() for s in personal_names]"
   ]
  },
  {
   "cell_type": "code",
   "execution_count": 19,
   "metadata": {},
   "outputs": [
    {
     "name": "stdout",
     "output_type": "stream",
     "text": [
      "39484\n"
     ]
    }
   ],
   "source": [
    "print(len(personal_names))"
   ]
  },
  {
   "cell_type": "code",
   "execution_count": 20,
   "metadata": {},
   "outputs": [
    {
     "name": "stdout",
     "output_type": "stream",
     "text": [
      "38508\n"
     ]
    }
   ],
   "source": [
    "# ~1k of these words have english apostrophes in them; don't know why don't care\n",
    "personal_names_grk = list()\n",
    "for name in personal_names:\n",
    "    if all([is_greek_char(x) for x in name]):\n",
    "        personal_names_grk.append(name)\n",
    "print(len(personal_names_grk))"
   ]
  },
  {
   "cell_type": "code",
   "execution_count": 21,
   "metadata": {},
   "outputs": [],
   "source": [
    "personal_names_stemmed = bad_stemming(names=personal_names_grk)"
   ]
  },
  {
   "cell_type": "code",
   "execution_count": 22,
   "metadata": {},
   "outputs": [
    {
     "name": "stdout",
     "output_type": "stream",
     "text": [
      "38508\n"
     ]
    }
   ],
   "source": [
    "print(len(personal_names_stemmed))"
   ]
  },
  {
   "cell_type": "code",
   "execution_count": 23,
   "metadata": {},
   "outputs": [
    {
     "data": {
      "text/plain": [
       "['', '῎Αβ', 'Αβα', '῎Αβαβ', 'Ἀβαεόδωρ']"
      ]
     },
     "execution_count": 23,
     "metadata": {},
     "output_type": "execute_result"
    }
   ],
   "source": [
    "personal_names_stemmed[:5]"
   ]
  },
  {
   "cell_type": "code",
   "execution_count": 24,
   "metadata": {},
   "outputs": [],
   "source": [
    "with open(\"personal-names-stemmed.txt\", \"w\") as fo:\n",
    "    fo.write(\"\\n\".join(personal_names_stemmed))"
   ]
  }
 ],
 "metadata": {
  "kernelspec": {
   "display_name": "Python 3",
   "language": "python",
   "name": "python3"
  },
  "language_info": {
   "codemirror_mode": {
    "name": "ipython",
    "version": 3
   },
   "file_extension": ".py",
   "mimetype": "text/x-python",
   "name": "python",
   "nbconvert_exporter": "python",
   "pygments_lexer": "ipython3",
   "version": "3.9.0"
  }
 },
 "nbformat": 4,
 "nbformat_minor": 4
}
